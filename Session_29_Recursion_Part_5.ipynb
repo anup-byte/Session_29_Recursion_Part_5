{
 "cells": [
  {
   "cell_type": "code",
   "execution_count": null,
   "id": "c96137e5",
   "metadata": {},
   "outputs": [],
   "source": [
    "# find the index of last occurance of x in a given list a"
   ]
  },
  {
   "cell_type": "code",
   "execution_count": 1,
   "id": "81e3b266",
   "metadata": {},
   "outputs": [],
   "source": [
    "def lastIndex(a, x):\n",
    "    l = len(a)\n",
    "    if l == 0:\n",
    "        return -1\n",
    "    \n",
    "    smallerList = a[1:]\n",
    "    smallerListOutput = lastIndex(smallerList, x)\n",
    "    if smallerListOutput != -1:\n",
    "        return smallerListOutput + 1\n",
    "    \n",
    "    else:\n",
    "        if a[0] == x:\n",
    "            return 0\n",
    "        else:\n",
    "            return -1\n",
    "    \n",
    "    "
   ]
  },
  {
   "cell_type": "code",
   "execution_count": 2,
   "id": "61fd77e9",
   "metadata": {},
   "outputs": [
    {
     "data": {
      "text/plain": [
       "6"
      ]
     },
     "execution_count": 2,
     "metadata": {},
     "output_type": "execute_result"
    }
   ],
   "source": [
    "a = [1,2,3,4,5,6,4,7,8]\n",
    "x = 4\n",
    "lastIndex(a, x)"
   ]
  },
  {
   "cell_type": "code",
   "execution_count": 3,
   "id": "77416e86",
   "metadata": {},
   "outputs": [
    {
     "data": {
      "text/plain": [
       "-1"
      ]
     },
     "execution_count": 3,
     "metadata": {},
     "output_type": "execute_result"
    }
   ],
   "source": [
    "a = [1,2,3,5,6,7,8]\n",
    "x = 4\n",
    "lastIndex(a, x)"
   ]
  },
  {
   "cell_type": "code",
   "execution_count": 4,
   "id": "81d707b8",
   "metadata": {},
   "outputs": [
    {
     "data": {
      "text/plain": [
       "-1"
      ]
     },
     "execution_count": 4,
     "metadata": {},
     "output_type": "execute_result"
    }
   ],
   "source": [
    "a = []\n",
    "x = 4\n",
    "lastIndex(a, x)"
   ]
  }
 ],
 "metadata": {
  "kernelspec": {
   "display_name": "Python 3 (ipykernel)",
   "language": "python",
   "name": "python3"
  },
  "language_info": {
   "codemirror_mode": {
    "name": "ipython",
    "version": 3
   },
   "file_extension": ".py",
   "mimetype": "text/x-python",
   "name": "python",
   "nbconvert_exporter": "python",
   "pygments_lexer": "ipython3",
   "version": "3.11.4"
  }
 },
 "nbformat": 4,
 "nbformat_minor": 5
}
